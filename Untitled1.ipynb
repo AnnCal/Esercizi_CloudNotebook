{
 "cells": [
  {
   "cell_type": "code",
   "execution_count": null,
   "id": "fa0b7f05-e621-44d9-b64b-e87f4d986703",
   "metadata": {},
   "outputs": [],
   "source": []
  }
 ],
 "metadata": {
  "kernelspec": {
   "display_name": "ROOT C++ (Python 3)",
   "language": "c++",
   "name": "python36-jupyroot"
  },
  "language_info": {
   "codemirror_mode": "text/x-c++src",
   "file_extension": ".C",
   "mimetype": " text/x-c++src",
   "name": "c++"
  }
 },
 "nbformat": 4,
 "nbformat_minor": 5
}
